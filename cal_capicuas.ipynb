{
 "metadata": {
  "name": ""
 },
 "nbformat": 3,
 "nbformat_minor": 0,
 "worksheets": [
  {
   "cells": [
    {
     "cell_type": "code",
     "collapsed": false,
     "input": [
      "import string \n",
      "import sys\n",
      "import unicodedata"
     ],
     "language": "python",
     "metadata": {},
     "outputs": [],
     "prompt_number": 1
    },
    {
     "cell_type": "code",
     "collapsed": false,
     "input": [
      "#Punto 1A\n",
      "#Genera todos los capicuas de 9 digitos\n",
      "Capicua = [int(\"%d%d%d%d%d%d%d%d%d\" % (x,y,z,a,b,a,z,y,x)) for x in range(1,10) for y in range(10) for z in range(10) for a in range(10) for b in range(10)]\n",
      "\n",
      "#Imprime todos los capicuas de 9 digitos\n",
      "print Capicua"
     ],
     "language": "python",
     "metadata": {},
     "outputs": []
    },
    {
     "cell_type": "code",
     "collapsed": false,
     "input": [
      "#Punto 1B\n",
      "#Transforma los numeros enteros a binarios\n",
      "x=[]\n",
      "for i in range(len(Capicua)):\n",
      "    s = bin(Capicua[i])[2:]\n",
      "    x.append(s)\n",
      "#print x #no se imprimen todos los numeros capicua que son palindromos en notacion binaria \n",
      "\n",
      "\n",
      "#Inicia una matriz donde se pondran los numeros que son palindromos\n",
      "SonP=[]\n",
      "\n",
      "#Busca dentro de toda la lista de numeros binarios y toma los que son palindromos \n",
      "for i in x:\n",
      "    if i== i[::-1]:\n",
      "        SonP.append(i)\n",
      "print SonP"
     ],
     "language": "python",
     "metadata": {},
     "outputs": []
    },
    {
     "cell_type": "code",
     "collapsed": false,
     "input": [
      "#Punto 1C\n",
      "S=input(\"Ingrese texto a evaluar: \")\n",
      "S=S.replace(\"\\n\",\"\")\n",
      "S=S.replace(\"\\t\",\"\")\n",
      "S=S.replace(\" \",\"\")\n",
      "S=unicode(S,'utf8')\n",
      "S= unicodedata.normalize('NFKD', S).encode('ASCII', 'ignore')\n",
      "simbolos = '''!()-[]{};:'\"\\,<>./?@#$%^&*_~'''\n",
      "SV= \"\" \n",
      "for char in S: \n",
      "    if char not in simbolos: \n",
      "        SV= SV + char \n",
      "SV=SV.lower()\n",
      "print SV\n",
      "\n",
      "if SV== SV[::-1]:\n",
      "   print  \"EL TEXTO ES PALINDROMO\"\n",
      "else:\n",
      "   print \"EL TEXTO NO ES PALINDROMO\"\n"
     ],
     "language": "python",
     "metadata": {},
     "outputs": [
      {
       "name": "stdout",
       "output_type": "stream",
       "stream": "stdout",
       "text": [
        "Ingrese texto a evaluar: \"a\u00e0a\u00e0a!! \\n a\"\n"
       ]
      },
      {
       "output_type": "stream",
       "stream": "stdout",
       "text": [
        "aaaaaa\n",
        "EL TEXTO ES PALINDROMO\n"
       ]
      }
     ],
     "prompt_number": 2
    },
    {
     "cell_type": "code",
     "collapsed": false,
     "input": [],
     "language": "python",
     "metadata": {},
     "outputs": []
    }
   ],
   "metadata": {}
  }
 ]
}